{
 "cells": [
  {
   "cell_type": "code",
   "execution_count": 31,
   "metadata": {},
   "outputs": [],
   "source": [
    "import numpy as np\n",
    "import matplotlib.pyplot as plt"
   ]
  },
  {
   "cell_type": "markdown",
   "metadata": {},
   "source": [
    "# Creating"
   ]
  },
  {
   "cell_type": "code",
   "execution_count": 48,
   "metadata": {},
   "outputs": [
    {
     "data": {
      "text/plain": [
       "array([[3],\n",
       "       [4],\n",
       "       [5],\n",
       "       [6]])"
      ]
     },
     "execution_count": 48,
     "metadata": {},
     "output_type": "execute_result"
    }
   ],
   "source": [
    "arr = np.array([1,2,3])\n",
    "arr = np.array([1,5,2],dtype=np.float64)\n",
    "arr = np.arange(1,5,2) \n",
    "arr = np.r_[1:13].reshape(3,4)\n",
    "arr = np.linspace(1,4,13)\n",
    "arr = np.random.randn(100)\n",
    "arr = np.eye(4)\n",
    "arr = np.zeros((3,3))\n",
    "arr = np.ones(8)\n",
    "arr = np.diag([1,2,3])\n",
    "arr = np.full((3,4),5)\n",
    "arr = np.empty((4,3))\n",
    "arr = np.c_[3:7]\n",
    "arr"
   ]
  },
  {
   "cell_type": "markdown",
   "metadata": {},
   "source": [
    "# operations"
   ]
  },
  {
   "cell_type": "code",
   "execution_count": 34,
   "metadata": {},
   "outputs": [],
   "source": [
    "a = np.arange(2,6)\n",
    "b = np.arange(10,14)"
   ]
  },
  {
   "cell_type": "code",
   "execution_count": 35,
   "metadata": {},
   "outputs": [
    {
     "data": {
      "text/plain": [
       "3"
      ]
     },
     "execution_count": 35,
     "metadata": {},
     "output_type": "execute_result"
    }
   ],
   "source": [
    "a + b\n",
    "a += b\n",
    "a - b\n",
    "np.add(a,a,a)\n",
    "np.exp(a)\n",
    "np.sin(a)\n",
    "np.sqrt(a)\n",
    "np.power(a,3)\n",
    "a.dot(b)\n",
    "a.argmax()"
   ]
  },
  {
   "cell_type": "code",
   "execution_count": 36,
   "metadata": {},
   "outputs": [],
   "source": [
    "a = np.array([1,2,3,4])\n",
    "b = np.array([1,3,3,5])\n",
    "a == b\n",
    "a[a >= b]\n",
    "a[a >= b] = 200\n",
    "a[(a > 2) & (a < 10)] = 55"
   ]
  },
  {
   "cell_type": "code",
   "execution_count": 37,
   "metadata": {},
   "outputs": [
    {
     "data": {
      "text/plain": [
       "array([200,   2, 200,  55])"
      ]
     },
     "execution_count": 37,
     "metadata": {},
     "output_type": "execute_result"
    }
   ],
   "source": [
    "a"
   ]
  },
  {
   "cell_type": "code",
   "execution_count": 38,
   "metadata": {},
   "outputs": [],
   "source": [
    "a = np.array([1,3,2,1,2,1,2,5,6,9,2])"
   ]
  },
  {
   "cell_type": "code",
   "execution_count": 39,
   "metadata": {},
   "outputs": [],
   "source": [
    "np.sum(a)\n",
    "np.mean(a)\n",
    "np.cumsum(a)\n",
    "np.max(a)\n",
    "np.corrcoef(a)\n",
    "mask = np.array([0,0,1,0,1,0,0,1,0,1,1],dtype=bool)\n",
    "b = a[mask]"
   ]
  },
  {
   "cell_type": "markdown",
   "metadata": {},
   "source": [
    "# Manipulation"
   ]
  },
  {
   "cell_type": "code",
   "execution_count": 40,
   "metadata": {},
   "outputs": [],
   "source": [
    "a = np.arange(12).reshape(3,4) # returns a new array\n",
    "b = np.arange(12).reshape(3,4)*2"
   ]
  },
  {
   "cell_type": "code",
   "execution_count": 50,
   "metadata": {},
   "outputs": [
    {
     "data": {
      "text/plain": [
       "array([ 0,  2,  3,  4,  5,  6,  7,  8,  9, 10, 11])"
      ]
     },
     "execution_count": 50,
     "metadata": {},
     "output_type": "execute_result"
    }
   ],
   "source": [
    "a.T\n",
    "np.ravel(a)\n",
    "a.resize((2,6))\n",
    "np.append(a,a)\n",
    "np.insert(a,1,1)\n",
    "np.delete(a,1)\n",
    "# np.vstack((a,b))\n",
    "# np.hstack((a,b))"
   ]
  },
  {
   "cell_type": "code",
   "execution_count": null,
   "metadata": {},
   "outputs": [],
   "source": []
  }
 ],
 "metadata": {
  "kernelspec": {
   "display_name": "Python 3 (ipykernel)",
   "language": "python",
   "name": "python3"
  },
  "language_info": {
   "codemirror_mode": {
    "name": "ipython",
    "version": 3
   },
   "file_extension": ".py",
   "mimetype": "text/x-python",
   "name": "python",
   "nbconvert_exporter": "python",
   "pygments_lexer": "ipython3",
   "version": "3.11.6"
  }
 },
 "nbformat": 4,
 "nbformat_minor": 4
}
